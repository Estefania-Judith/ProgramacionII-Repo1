{
 "cells": [
  {
   "cell_type": "code",
   "execution_count": 3,
   "metadata": {},
   "outputs": [
    {
     "name": "stdout",
     "output_type": "stream",
     "text": [
      "El equipo ganó 18 partidos y empató 7.\n",
      "Total de puntos: 61\n"
     ]
    }
   ],
   "source": [
    "# Número de victorias y empates\n",
    "victorias = 18\n",
    "empates = 7\n",
    "\n",
    "# Puntos por victoria y empate\n",
    "puntos_victoria = 3\n",
    "puntos_empate = 1\n",
    "\n",
    "# Calcular los puntos totales\n",
    "puntos_totales = (victorias * puntos_victoria) + (empates * puntos_empate)\n",
    "\n",
    "# Mostrar los puntos totales\n",
    "print(f\"El equipo ganó {victorias} partidos y empató {empates}.\\nTotal de puntos: {puntos_totales}\")\n"
   ]
  },
  {
   "cell_type": "code",
   "execution_count": 8,
   "metadata": {},
   "outputs": [
    {
     "name": "stdout",
     "output_type": "stream",
     "text": [
      "El equipo ganó 18 partidos y empató 7 partidos.\n",
      "El equipo tiene un total de 61 puntos.\n"
     ]
    }
   ],
   "source": [
    "\n",
    "victorias = int(input(\"Ingrese la cantidad de victorias del equipo: \"))\n",
    "empates = int(input(\"Ingrese la cantidad de empates del equipo: \"))\n",
    "\n",
    "puntos = (victorias * 3) + empates\n",
    "\n",
    "print(f\"El equipo ganó {victorias} partidos y empató {empates} partidos.\")\n",
    "print(f\"El equipo tiene un total de {puntos} puntos.\")\n"
   ]
  },
  {
   "cell_type": "code",
   "execution_count": 11,
   "metadata": {},
   "outputs": [
    {
     "name": "stdout",
     "output_type": "stream",
     "text": [
      "10\n",
      "0\n",
      "25\n",
      "1.0\n",
      "1\n"
     ]
    }
   ],
   "source": [
    "numero1 = int(input(\"ingrese numero1\"))\n",
    "numero2 = int(input(\"ingrese numero2\"))\n",
    "print(numero1 + numero2)\n",
    "print(numero1 - numero2)\n",
    "print(numero1 * numero2)\n",
    "print(numero1 / numero2)\n",
    "print(numero1 // numero2)\n",
    "\n"
   ]
  },
  {
   "cell_type": "markdown",
   "metadata": {},
   "source": [
    "CORREGIR COMENTARIOS"
   ]
  }
 ],
 "metadata": {
  "kernelspec": {
   "display_name": "Python 3",
   "language": "python",
   "name": "python3"
  },
  "language_info": {
   "codemirror_mode": {
    "name": "ipython",
    "version": 3
   },
   "file_extension": ".py",
   "mimetype": "text/x-python",
   "name": "python",
   "nbconvert_exporter": "python",
   "pygments_lexer": "ipython3",
   "version": "3.11.5"
  },
  "orig_nbformat": 4
 },
 "nbformat": 4,
 "nbformat_minor": 2
}
