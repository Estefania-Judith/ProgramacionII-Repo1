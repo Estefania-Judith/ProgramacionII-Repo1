{
 "cells": [
  {
   "cell_type": "markdown",
   "metadata": {},
   "source": [
    "#Clase Nº 3: TIPO DE DATOS EN PYTHON"
   ]
  },
  {
   "cell_type": "markdown",
   "metadata": {},
   "source": [
    "//En Python, si queremos solicitar al usuario que ingrese datos, existe una función denominada input()\n"
   ]
  },
  {
   "cell_type": "code",
   "execution_count": 8,
   "metadata": {},
   "outputs": [
    {
     "name": "stdout",
     "output_type": "stream",
     "text": [
      "Bienvenido estefania\n"
     ]
    }
   ],
   "source": [
    "nombre = input(\"ingrese su nombre\")\n",
    "print(\"Bienvenido\",nombre)"
   ]
  },
  {
   "cell_type": "markdown",
   "metadata": {},
   "source": [
    "Actividad N° 3\n",
    "Tenes que calcular los puntos ganados por un equipo de fútbol. El equipo ganó 18 partidos y empató 7. Una victoria da 3 puntos y un empate 1 punto."
   ]
  },
  {
   "cell_type": "code",
   "execution_count": 9,
   "metadata": {},
   "outputs": [
    {
     "name": "stdout",
     "output_type": "stream",
     "text": [
      "El equipo ganó 18 partidos y empató 7.\n",
      "Total de puntos: 61\n"
     ]
    }
   ],
   "source": [
    "# Número de victorias y empates\n",
    "victorias = 18\n",
    "empates = 7\n",
    "\n",
    "# Puntos por victoria y empate\n",
    "puntos_victoria = 3\n",
    "puntos_empate = 1\n",
    "\n",
    "# Calcular los puntos totales\n",
    "puntos_totales = (victorias * puntos_victoria) + (empates * puntos_empate)\n",
    "\n",
    "# Mostrar los puntos totales\n",
    "print(f\"El equipo ganó {victorias} partidos y empató {empates}.\\nTotal de puntos: {puntos_totales}\")\n"
   ]
  },
  {
   "cell_type": "code",
   "execution_count": 10,
   "metadata": {},
   "outputs": [
    {
     "name": "stdout",
     "output_type": "stream",
     "text": [
      "El equipo ganó 18 partidos y empató 7 partidos.\n",
      "El equipo tiene un total de 61 puntos.\n"
     ]
    }
   ],
   "source": [
    "victorias = int(input(\"Ingrese la cantidad de victorias del equipo: \"))\n",
    "empates = int(input(\"Ingrese la cantidad de empates del equipo: \"))\n",
    "\n",
    "puntos = (victorias * 3) + empates\n",
    "\n",
    "print(f\"El equipo ganó {victorias} partidos y empató {empates} partidos.\")\n",
    "print(f\"El equipo tiene un total de {puntos} puntos.\")"
   ]
  },
  {
   "cell_type": "markdown",
   "metadata": {},
   "source": [
    "Si queremos que Python intérprete la entrada como un número entero, se\n",
    "debe utilizar la función int() de la siguiente manera:"
   ]
  },
  {
   "cell_type": "code",
   "execution_count": 12,
   "metadata": {},
   "outputs": [
    {
     "name": "stdout",
     "output_type": "stream",
     "text": [
      "elprecio a pagar es de  25.0\n"
     ]
    }
   ],
   "source": [
    "cantidad = int(input(\"ingrese un monto\")) #ej. valor 50\n",
    "print(\"elprecio a pagar es de \" ,cantidad/2)"
   ]
  },
  {
   "cell_type": "markdown",
   "metadata": {},
   "source": [
    "De la misma manera, para que Python intérprete la entrada como un\n",
    "número decimal, se debe utilizar la función float() de la siguiente manera:"
   ]
  },
  {
   "cell_type": "code",
   "execution_count": 13,
   "metadata": {},
   "outputs": [
    {
     "name": "stdout",
     "output_type": "stream",
     "text": [
      "el precio a pagar es de  23.5\n"
     ]
    }
   ],
   "source": [
    "cantidad = float(input(\"ingrese un monto:\")) #ej. valor 47\n",
    "print(\"el precio a pagar es de \" ,cantidad/2)"
   ]
  },
  {
   "cell_type": "markdown",
   "metadata": {},
   "source": []
  }
 ],
 "metadata": {
  "kernelspec": {
   "display_name": "Python 3",
   "language": "python",
   "name": "python3"
  },
  "language_info": {
   "codemirror_mode": {
    "name": "ipython",
    "version": 3
   },
   "file_extension": ".py",
   "mimetype": "text/x-python",
   "name": "python",
   "nbconvert_exporter": "python",
   "pygments_lexer": "ipython3",
   "version": "3.11.5"
  },
  "orig_nbformat": 4
 },
 "nbformat": 4,
 "nbformat_minor": 2
}
